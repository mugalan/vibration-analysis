{
  "nbformat": 4,
  "nbformat_minor": 0,
  "metadata": {
    "colab": {
      "provenance": [],
      "collapsed_sections": [
        "Q-BZgoppH8-p",
        "7p1v2B5RQU-9",
        "MCqNIH8hWaFC",
        "AkV5kfOET74e",
        "ix64_XTj3RK0",
        "VMonShpU0fkf",
        "V_wuzOMFgyIm",
        "wi6saxnvhXTf",
        "YrNmadvAiDrF",
        "_i4qRgr-ies_",
        "jcG552nCjAhC",
        "6vObiCeF_UTg",
        "4wJ_AboDSl-0",
        "qmFMA3GGSqkU",
        "HUCkg9aTTGUF",
        "5Vz9BTv1ky1x",
        "EgYzdaLn0DAL",
        "qWVKqX7K3WDK",
        "bpFso7jJAdWq",
        "aA7VldZyCYUy"
      ],
      "authorship_tag": "ABX9TyP3Q+AU2Zr3dw+TPQxfb86F",
      "include_colab_link": true
    },
    "kernelspec": {
      "name": "python3",
      "display_name": "Python 3"
    },
    "language_info": {
      "name": "python"
    }
  },
  "cells": [
    {
      "cell_type": "markdown",
      "metadata": {
        "id": "view-in-github",
        "colab_type": "text"
      },
      "source": [
        "<a href=\"https://colab.research.google.com/github/mugalan/vibration-analysis/blob/main/assignments/Basic_Vibration_Modeling.ipynb\" target=\"_parent\"><img src=\"https://colab.research.google.com/assets/colab-badge.svg\" alt=\"Open In Colab\"/></a>"
      ]
    },
    {
      "cell_type": "code",
      "source": [
        "import numpy as np\n",
        "import scipy as sp\n",
        "from scipy.integrate import odeint\n",
        "import math\n",
        "from numpy import linalg\n",
        "import sympy\n",
        "\n",
        "from sympy import symbols\n",
        "from sympy import *\n",
        "from sympy.physics.mechanics import dynamicsymbols, init_vprinting\n",
        "init_vprinting(pretty_print=True)\n",
        "\n",
        "import plotly.graph_objects as go"
      ],
      "metadata": {
        "id": "DmjHyGvMfX3R"
      },
      "execution_count": null,
      "outputs": []
    },
    {
      "cell_type": "markdown",
      "source": [
        "#Question 1"
      ],
      "metadata": {
        "id": "JRWF52MEWhXN"
      }
    },
    {
      "cell_type": "markdown",
      "source": [
        "Meeswin engineering are an engineering company that have been commissioned to design an auto-closing gate for use\n",
        "in rural settings. Because it is to be used in remote locations, it cannot use any electronics. The engineers have decided\n",
        "it will therefore be a swinging gate mounted to a vertical post about which it rotates, with a torsional spring that cannot be\n",
        "adjusted which has a torsional spring constant of $k = 130\\,N.m$. They will control the torsional damping with a drum brake\n",
        "that simply uses friction to slow the gate's rotation. The amount of friction can be controlled by tightening or loosening a\n",
        "bolt which presses a brake shoe against the drum. Both the torsional spring and the brake can be considered linear. The\n",
        "gate weighs $75\\,kg$, with its centre of mass concentrated at its centre point which is $1.5\\,m$ from the vertical post. The initial\n",
        "settings on the gate brake produce a rotational damping coefficient of $c= 10\\,N.m/s$. Your tasks are\n",
        "\n",
        "* a. If the gate is opened to an angle of $\\theta = 30^o$, then released from rest, find the expression for the time history of the\n",
        "motion of the gate.\n",
        "\n",
        "* b. Provide an explanation of which vibration phenomenon could be exploited to minimise the time that the gate remains\n",
        "open and how this could be implemented given the gate design.\n",
        "\n",
        "* c. For the provided gate, calculate new values of any coefficients that would lead to the minimum open time, and calculate\n",
        "how long it will take the gate to close from an initial position of $\\theta = 30^o$ (the gate can be considered closed when its\n",
        "position is $\\theta= 1^o$).\n",
        "\n",
        "* d. Produce a pdf file called q1.pdf, containing your working and final expression for the motion of the gate, explanation\n",
        "of a phenomenon to exploit to minimise open time, your calculations and new values of coefficients to minimise open\n",
        "time, and your calculations of the minimum time the gate will remain open. Upload this file as part of your submission."
      ],
      "metadata": {
        "id": "OnLVTmMscC3q"
      }
    },
    {
      "cell_type": "markdown",
      "metadata": {
        "id": "49918cb9"
      },
      "source": [
        "## System Model and Initial Condition Response\n"
      ]
    },
    {
      "cell_type": "markdown",
      "source": [
        "Assumin that the horizontal gate position is the equilibrium position of the gate we have\n",
        "\n",
        "Let $\\omega^2_n=\\frac{K}{I}$ and $2 \\zeta \\omega_n=\\frac{C}{I}$. Then the above equations take the form\n",
        "\\begin{align}\n",
        "\\ddot{\\theta}(t) + 2 \\zeta \\omega_n \\dot{\\theta}(t) + \\omega^2_n \\theta(t)=0.\n",
        "\\end{align}"
      ],
      "metadata": {
        "id": "NXNPo9KikMfv"
      }
    },
    {
      "cell_type": "markdown",
      "source": [
        "Taking Laplace transform\n",
        "of both sides of and using the linearity property of the Laplace transform we have\n",
        "\\begin{align}\n",
        "\\mathfrak{L}\\left\\{\\ddot{\\theta}(t) + 2 \\zeta \\omega_n \\dot{\\theta}(t) + \\omega^2_n \\theta(t)\\right\\}&=\\frac{1}{M}\\mathfrak{L}\\left\\{f(t)\\right\\},\\\\\n",
        "(s^2+2 \\zeta \\omega_n s + \\omega_n^2) \\Theta(s) - \\dot{\\theta}(0)- ( s + 2\\zeta \\omega_n)\\theta(0)  &= 0.\n",
        "\\end{align}\n",
        "This yields\n",
        "\\begin{align}\n",
        "\\Theta(s)=\\frac{1}{s^2+2 \\zeta \\omega_n s + \\omega_n^2} \\dot{\\theta}(0)+\\frac{ s + 2\\zeta \\omega_n}{s^2+2 \\zeta \\omega_n s + \\omega_n^2}\\theta(0)\n",
        "\\end{align}\n",
        "Since the Laplace is a one-to-one and onto operator its inverse exists and thus the the solution can be uniquely determined to be $x(t)=\\mathfrak{L}^{-1}\\{X(s)\\}$. Using the linearity property of the inverse we thus have\n",
        "\n",
        "\n",
        "\\begin{align}\n",
        "\\theta(t)&=\\dot{\\theta}(0)\\mathfrak{L}^{-1}\\left\\{\\frac{1}{s^2+2 \\zeta \\omega_n s + \\omega_n^2} \\right\\}+\\theta(0)\\mathfrak{L}^{-1}\\left\\{\\frac{ s + 2\\zeta \\omega_n}{s^2+2 \\zeta \\omega_n s + \\omega_n^2}\\right\\}.\n",
        "\\end{align}\n",
        "\n",
        "\n",
        "\n",
        "For realeasing from rest $\\dot{\\theta}(0)=$ and hence\n",
        "\\begin{align}\n",
        "\\theta(t)&=\\theta(0)\\mathfrak{L}^{-1}\\left\\{\\frac{ s + 2\\zeta \\omega_n}{s^2+2 \\zeta \\omega_n s + \\omega_n^2}\\right\\}.\n",
        "\\end{align}"
      ],
      "metadata": {
        "id": "_l2wbMfYspLH"
      }
    },
    {
      "cell_type": "markdown",
      "source": [
        "For underdaped conditions $0\\leq\\zeta < 1$ by taking  partial fraction expansion we can show that the above expressions reduce to\n",
        "\n",
        "\\begin{align}\n",
        "\\theta_{IC} (t) &=e^{-\\zeta \\omega_nt}\\left(\\frac{\\theta(0)}{\\sqrt{1-\\zeta^2}}\\sin{(\\omega_dt+\\phi_{IC})}\\right)\n",
        "\\end{align}\n",
        "where $\\omega_d=\\omega_n\\sqrt{1-\\zeta^2}$, $\\phi_{IC}=\\arcsin\\left({\\sqrt{1-\\zeta^2}}\\right)$"
      ],
      "metadata": {
        "id": "Xx-CNk1Zy5xI"
      }
    },
    {
      "cell_type": "markdown",
      "source": [
        "Whent $\\zeta=1$, that is when the system is critically damped\n",
        "\\begin{align}\n",
        "\\theta_{IC} (t) &=\\theta(0) \\left( e^{-\\omega_n t} + \\omega_n t e^{-\\omega_n t} \\right) = \\theta(0) \\, e^{-\\omega_n t} (1 + \\omega_n t)\n",
        "\\end{align}\n"
      ],
      "metadata": {
        "id": "YXatXfPHUut2"
      }
    },
    {
      "cell_type": "code",
      "source": [
        "Delta_s=[1, 2*zeta*wn, wn**2];\n",
        "np.roots(Delta_s)"
      ],
      "metadata": {
        "id": "W3Qp-8lcx9mG"
      },
      "execution_count": null,
      "outputs": []
    },
    {
      "cell_type": "markdown",
      "source": [
        "## a) Time history of the gate when $\\theta(0)=30^o$ and $\\dot{\\theta}(0)=0$"
      ],
      "metadata": {
        "id": "lX2Vx9LRWAPP"
      }
    },
    {
      "cell_type": "code",
      "source": [
        "M=75; L=1.5; K=130; C=10; I=M*L**2; theta0=30;\n",
        "wn=np.sqrt(K/I);\n",
        "zeta=C/(I*2*wn)\n",
        "print(zeta)"
      ],
      "metadata": {
        "id": "lmWMCy_kvF5x"
      },
      "execution_count": null,
      "outputs": []
    },
    {
      "cell_type": "markdown",
      "source": [
        "Since $\\zeta = 0.0337< 1$ the analytinc expression for the time response of the graph is:\n",
        "\n",
        "\\begin{align}\n",
        "\\theta_{IC} (t) &=e^{-\\zeta \\omega_nt}\\left(\\frac{\\theta(0)}{\\sqrt{1-\\zeta^2}}\\sin{(\\omega_dt+\\phi_{IC})}\\right)\n",
        "\\end{align}\n",
        "where $\\omega_d=\\omega_n\\sqrt{1-\\zeta^2}$, $\\phi_{IC}=\\arcsin\\left({\\sqrt{1-\\zeta^2}}\\right)$"
      ],
      "metadata": {
        "id": "h6Nk6HuAW2dt"
      }
    },
    {
      "cell_type": "markdown",
      "source": [
        "###The plot of the time history is:"
      ],
      "metadata": {
        "id": "KSZeaRrSXJ1w"
      }
    },
    {
      "cell_type": "code",
      "source": [
        "zeta=C/(I*2*wn)\n",
        "wd=wn*np.sqrt(1-zeta**2); phi_IC=np.arcsin(1-zeta**2); x0=np.deg2rad(theta0);\n",
        "t=np.linspace(0,100,1000);\n",
        "x_IC=np.exp(-zeta*wn*t)*((x0/(np.sqrt(1-zeta**2)))*np.sin(wd*t+phi_IC))   #np.exp(-zeta*wn*t);\n",
        "fig = go.Figure()\n",
        "fig.add_trace(go.Scatter(x=t, y=x_IC, mode='lines+markers', name='x'))\n",
        "fig.update_layout(title='Initial Condition Response', xaxis=dict(title='Time / t'), yaxis=dict(title=r'$\\theta_{IC}(t)$'))\n",
        "fig.show()"
      ],
      "metadata": {
        "id": "5GvkbRXRsniJ"
      },
      "execution_count": null,
      "outputs": []
    },
    {
      "cell_type": "markdown",
      "source": [
        "## b) Minimising the time that the gate remains open"
      ],
      "metadata": {
        "id": "Wm9fkRxmXe1e"
      }
    },
    {
      "cell_type": "markdown",
      "source": [
        "The inimum gate opening time occurs when the system is criticall damped. That is when $\\zeta=1$. Then:\n",
        "\n",
        "\\begin{align}\n",
        "\\theta_{IC} (t) &= \\theta(0) \\, e^{-\\omega_n t} (1 + \\omega_n t)\n",
        "\\end{align}\n",
        "\n",
        "This could be implemented by increasing the damping. That is by tightening the screw so that $C=I*(2*\\omega_n)=2\\sqrt{KI}$"
      ],
      "metadata": {
        "id": "rgj3MBWpXq_V"
      }
    },
    {
      "cell_type": "markdown",
      "source": [],
      "metadata": {
        "id": "u2ma_24wX-Z0"
      }
    },
    {
      "cell_type": "code",
      "source": [
        "x0=np.deg2rad(theta0);\n",
        "t=np.linspace(0,20,1000);\n",
        "x_IC=x0*np.exp(-wn*t)*(1+wn*t)   #np.exp(-zeta*wn*t);\n",
        "fig = go.Figure()\n",
        "fig.add_trace(go.Scatter(x=t, y=x_IC, mode='lines+markers', name='x'))\n",
        "fig.update_layout(title='Critically Damped Initial Condition Response', xaxis=dict(title='Time / t'), yaxis=dict(title=r'$\\theta_{IC}(t)$'))\n",
        "fig.show()"
      ],
      "metadata": {
        "id": "3JOEKZknX5sG"
      },
      "execution_count": null,
      "outputs": []
    },
    {
      "cell_type": "markdown",
      "source": [
        "## c) How to get critical damping"
      ],
      "metadata": {
        "id": "FygmkLMSZxur"
      }
    },
    {
      "cell_type": "markdown",
      "source": [
        "$C=I*(2*\\omega_n)=2\\sqrt{KI}$"
      ],
      "metadata": {
        "id": "cfN3gikBZ1hr"
      }
    },
    {
      "cell_type": "code",
      "source": [
        "C=2*np.sqrt(K*I)\n",
        "print(C)"
      ],
      "metadata": {
        "id": "MBFj3UNBZ5d_"
      },
      "execution_count": null,
      "outputs": []
    },
    {
      "cell_type": "markdown",
      "source": [
        "$C\\approx 296.2 \\,Nm/s$"
      ],
      "metadata": {
        "id": "Jz6LgZjOaG06"
      }
    },
    {
      "cell_type": "markdown",
      "source": [
        "If gate closing time is $t_s$ then\n",
        "\\begin{align}\n",
        "\\theta_{IC} (t_s) &= \\theta(0) \\, e^{-\\omega_n t_s} (1 + \\omega_n t_s)=\\pi/180\n",
        "\\end{align}\n",
        "\\begin{align}\n",
        "e^{-\\omega_n t_s} (1 + \\omega_n t_s)=1/30\n",
        "\\end{align}\n",
        "The approximate solution of this is\n",
        "\\begin{align}\n",
        "t_s \\approx \\frac{5.2307}{\\omega_n}=5.2307\\sqrt{\\frac{I}{K}}\n",
        "\\end{align}"
      ],
      "metadata": {
        "id": "-C4ZhfXOaVpr"
      }
    },
    {
      "cell_type": "code",
      "source": [
        "t_s=5.2307*np.sqrt(I/K)\n",
        "print(t_s)"
      ],
      "metadata": {
        "id": "4vw7_YWzbsZ8"
      },
      "execution_count": null,
      "outputs": []
    },
    {
      "cell_type": "markdown",
      "source": [
        "Approximate gate closing time is 6s."
      ],
      "metadata": {
        "id": "2aNK7cusb29K"
      }
    },
    {
      "cell_type": "markdown",
      "source": [
        "# Question 2"
      ],
      "metadata": {
        "id": "tuEnlOi7cDTB"
      }
    },
    {
      "cell_type": "markdown",
      "source": [
        "An international car company is importing cars into Australia. The car has a unique sensor that consists of a very small,\n",
        "rectangular cross-section mounted as a cantilever beam, mounted horizontally, with the sensor in a small block mounted\n",
        "at the free end. The sensor block weighs $10\\,g$. The company has discovered that this sensor keeps breaking in Australian\n",
        "conditions on coarse-chip bitumen roads that have an average aggregate (or pebble) size of $14\\,mm$, particularly on roads\n",
        "where the speed limit is $80\\,km/h$. Meeswin engineering have been commissioned to try to solve this problem. They have\n",
        "started by trying to measure the force on the sensor block when driving; the data are hard to obtain, but they have been\n",
        "able to ascertain that the force oscillates with an amplitude of $F_0 = 1.4\\,N$ and can be approximated by a cosine function.\n",
        "Your tasks are\n",
        "\n",
        "* a. Provide a diagram of the setup of the problem, identifying the important components and coefficients.\n",
        "* b. Provide a reason why the sensor fails specifically when the car travels at 80km/h in terms of vibration phenomena.\n",
        "* c. Provide an estimate of the equivalent spring stiffness of the cantilever beam that holds the sensor. Assume there is no\n",
        "damping.\n",
        "* d. If the sensor fails when its displacement from its neutral position exceeds 1cm, calculate how long it will take for the\n",
        "sensor to fail once the oscillatory force is applied.\n",
        "* e. Produce a pdf file called q2.pdf, containing your diagram, explanation for sensor failure, estimate of equivalent spring\n",
        "stiffness, and calculations of the time to failure, and upload it as part of your submission."
      ],
      "metadata": {
        "id": "R3cFcdbicP7m"
      }
    },
    {
      "cell_type": "markdown",
      "source": [
        "##Mathematical Model of the system and the analytical solutionLet $\\omega^2_n=\\frac{K}{M}$ and $2 \\zeta \\omega_n=\\frac{C}{M}$. Then the above equations take the form\n",
        "\\begin{align}\n",
        "\\ddot{x}(t) + 2 \\zeta \\omega_n \\dot{x}(t) + \\omega^2_n x(t)= \\frac{1}{M}F(t).\n",
        "\\end{align}"
      ],
      "metadata": {
        "id": "ueQcVxKIdSLh"
      }
    },
    {
      "cell_type": "markdown",
      "source": [
        "\n",
        "\n",
        "For a given $f(t)$ that does not grow faster than an exponential function it can be shown, owing to the linearity of the system, that the solution will also not grow\n",
        "faster than an exponential function. Thus taking Laplace transform\n",
        "of both sides of and using the linearity property of the Laplace transform we have\n",
        "\\begin{align}\n",
        "\\mathfrak{L}\\left\\{\\ddot{x}(t) + 2 \\zeta \\omega_n \\dot{x}(t) + \\omega^2_n x(t)\\right\\}&=\\frac{1}{M}\\mathfrak{L}\\left\\{f(t)\\right\\},\\\\\n",
        "(s^2+2 \\zeta \\omega_n s + \\omega_n^2) X(s) - \\dot{x}(0)- ( s + 2\\zeta \\omega_n)x(0)  &= \\frac{1}{M} F(s).\n",
        "\\end{align}\n",
        "This yields\n",
        "\\begin{align}\n",
        "X(s)=\\frac{1}{s^2+2 \\zeta \\omega_n s + \\omega_n^2} \\dot{x}(0)+\\frac{ s + 2\\zeta \\omega_n}{s^2+2 \\zeta \\omega_n s + \\omega_n^2}x(0)\n",
        "+\\frac{1/M}{s^2+2 \\zeta \\omega_n s + \\omega_n^2}F(s).\n",
        "\\end{align}\n",
        "Since the Laplace is a one-to-one and onto operator its inverse exists and thus the the solution can be uniquely determined to be $x(t)=\\mathfrak{L}^{-1}\\{X(s)\\}$. Using the linearity property of the inverse we thus have\n",
        "\n",
        "\n",
        "\\begin{align}\n",
        "x(t)&=\\dot{x}(0)\\mathfrak{L}^{-1}\\left\\{\\frac{1}{s^2+2 \\zeta \\omega_n s + \\omega_n^2} \\right\\}+x(0)\\mathfrak{L}^{-1}\\left\\{\\frac{ s + 2\\zeta \\omega_n}{s^2+2 \\zeta \\omega_n s + \\omega_n^2}\\right\\}+\\mathfrak{L}^{-1}\\left\\{\\frac{1/M}{s^2+2 \\zeta \\omega_n s + \\omega_n^2}F(s)\\right\\}.\n",
        "\\end{align}\n",
        "\n",
        "\n",
        "Observe that the first two terms depend on the initial conditions and do not depend on the forcing while the last term does depend on the forcing but is in depend of the initial conditions. Therefore\n",
        "we may breakup the solution into two parts such that $x(t)=x_{IC}(t)+x_f(t)$ where\n",
        "\\begin{align}\n",
        "x_{IC}(t)&=\\dot{x}(0)\\mathfrak{L}^{-1}\\left\\{\\frac{1}{s^2+2 \\zeta \\omega_n s + \\omega_n^2} \\right\\}+x(0)\\mathfrak{L}^{-1}\\left\\{\\frac{ s + 2\\zeta \\omega_n}{s^2+2 \\zeta \\omega_n s + \\omega_n^2}\\right\\}, \\\\\n",
        "x_f(t)&=\\mathfrak{L}^{-1}\\left\\{\\frac{1/M}{s^2+2 \\zeta \\omega_n s + \\omega_n^2}F(s)\\right\\}.\n",
        "\\end{align}\n",
        "\n",
        "Assuming light damping we have that the system steady state forced response is approximately\n",
        "\n",
        "\\begin{align}\n",
        "x_{ss}(t)&=\\mathfrak{L}^{-1}\\left\\{\\frac{1/M}{s^2+2 \\zeta \\omega_n s + \\omega_n^2}F(s)\\right\\}.\n",
        "\\end{align}\n",
        "\n",
        "When the forcing is of the form $F_0\\cos{\\omega t}$ and assuming under damped conditions we have from partial fraction expansions and the inverse Laplace transform:\n",
        "\n",
        "Thus it can be shown that the steady state response of the system for sinusoidal forcing is\n",
        "\\begin{align}\n",
        "x_{ss}(t)=\\chi(\\omega)\\,F_0\\,\\cos(\\omega t +\\phi(\\omega))\\:1(t),\n",
        "\\end{align}\n",
        "where\n",
        "\\begin{align}\n",
        "\\chi(\\omega)=\\frac{1/M}{\\sqrt{(\\omega_n^2-\\omega^2)^2+4\\zeta^2\\omega^2\\omega_n^2}}\n",
        "\\end{align}\n",
        "and\n",
        "\\begin{align}\n",
        "\\phi(\\omega)=\\arctan{\\left(\\frac{2\\zeta\\omega\\omega_n}{\\omega_n^2-\\omega^2}\\right)}.\n",
        "\\end{align}\n",
        "Thus we see that the steady state response to sinusoidal forcing is also sinusoidal with frequency of oscillation equal to that of the forcing frequency $\\omega$. However it differs from the forcing in two distinct ways. One is that the amplitude of the steady state solution is $\\chi(\\omega)$ times the magnitude of the forcing while the other is that the phase of the steady state solution is shifted by $\\phi(\\omega)$ from the phase of the forcing. It is also important to note that the amplitude magnification and the phase shift depend on the forcing frequency $\\omega$. We will see that this observation has crucial implications for vibration analysis and control system design.\n",
        "\n",
        "One can show that $\\chi(\\omega)$ is maximum when\n",
        "\\begin{align}\n",
        "\\omega=\\omega_r=\\omega_n\\sqrt{1-2\\zeta^2},\n",
        "\\end{align}\n",
        "and that the maximum amplitude of vibration is given by\n",
        "\\begin{align}\n",
        "{x_{ss}}_{max}=\\frac{F_0/M}{2\\zeta\\omega_n^2\\sqrt{1-\\zeta^2}}.\n",
        "\\end{align}\n"
      ],
      "metadata": {
        "id": "BoqgdfYNdX1g"
      }
    },
    {
      "cell_type": "markdown",
      "source": [
        "## b) Reason why the sensor fails"
      ],
      "metadata": {
        "id": "pJjjjvfjf4Ck"
      }
    },
    {
      "cell_type": "markdown",
      "source": [
        "The sensor fails due to the fact that it goes into resonance when the vegicle is moving at $80\\,km/h$ over a road with $14\\,mm$  aggregate."
      ],
      "metadata": {
        "id": "s3YrF9-ef8tg"
      }
    },
    {
      "cell_type": "markdown",
      "source": [
        "A coarse chip-seal road has periodic bumps (average stone spacing ≈ stone size ≈ 14 mm).\n",
        "\n",
        "At 80 km/h, the number of bumps the tire hits per second gives the excitation frequency:\n",
        "\n",
        "$f = \\frac{v}{d}$\n",
        "\n",
        "Where: $v = 80\\,\\text{km/h} = \\frac{80000}{3600} = 22.22\\,\\text{m/s} $ and $d = 14\\,\\text{mm} = 0.014\\,\\text{m}$. Thus the frequency of occillation of the vehicle under these conditions is\n",
        "\n",
        "$f = \\frac{22.22}{0.014} \\approx 1587\\,\\text{Hz}$.\n",
        "\n",
        "Thus the resonance frequency of the cantelever can be assumed to\n",
        "\n",
        "\\begin{align}\n",
        "\\omega_r=\\omega_n\\sqrt{1-2\\zeta^2} \\approx 2\\pi f\n",
        "\\end{align}\n"
      ],
      "metadata": {
        "id": "3Itug_9Hgecs"
      }
    },
    {
      "cell_type": "code",
      "source": [
        "omega_r=2*np.pi*1587\n",
        "print(omega_r)"
      ],
      "metadata": {
        "id": "uS8UnjtvhcMv"
      },
      "execution_count": null,
      "outputs": []
    },
    {
      "cell_type": "markdown",
      "source": [
        "## c) If Damping is negligible estimate $K$"
      ],
      "metadata": {
        "id": "p-kstugmh4xG"
      }
    },
    {
      "cell_type": "markdown",
      "source": [
        "If the damping is negligible from the above expression we have that\n",
        "$\\sqrt{\\frac{K}{M}}=\\omega_n\\approx \\omega_r\\approx 2\\pi f$ where $M=0.01$. Thus\n",
        "\\begin{align}\n",
        "K\\approx M\\omega_r^2 \\approx M(2\\pi f)^2\n",
        "\\end{align}"
      ],
      "metadata": {
        "id": "MSE97_qkiFxb"
      }
    },
    {
      "cell_type": "code",
      "source": [
        "M=0.01\n",
        "K=M*omega_r**2\n",
        "print(K)"
      ],
      "metadata": {
        "id": "BPh5D_eOiCSy"
      },
      "execution_count": null,
      "outputs": []
    },
    {
      "cell_type": "markdown",
      "source": [
        "The cantelever spring constant is:\n",
        "$K\\approx 994.3 \\, kN/m$"
      ],
      "metadata": {
        "id": "e7CJseyrjH92"
      }
    },
    {
      "cell_type": "code",
      "source": [],
      "metadata": {
        "id": "QpGbsCwmjHf8"
      },
      "execution_count": null,
      "outputs": []
    },
    {
      "cell_type": "markdown",
      "source": [
        "## d) Failiure time"
      ],
      "metadata": {
        "id": "SZGEqGSQk5Uh"
      }
    },
    {
      "cell_type": "markdown",
      "source": [
        "For this we assume no damping and $\\omega=\\omega_n$. Then\n",
        "\n",
        "\\begin{align}\n",
        "x_{ss}(t) = \\mathfrak{L}^{-1} \\left\\{ \\frac{F_0 s / M}{(s^2 + \\omega_n^2)^2} \\right\\}\n",
        "\\end{align}\n",
        "\n",
        "Using the identity (from Laplace tables):\n",
        "\n",
        "\\begin{align}\n",
        "x_{ss}(t) = \\mathfrak{L}^{-1} \\left\\{ \\frac{s}{(s^2 + \\omega_n^2)^2} \\right\\} = \\frac{t}{2\\omega_n} \\sin(\\omega_nt)\n",
        "\\end{align}\n",
        "\n",
        "If the max amplitude before failiure is $x_{max}$ we have\n",
        "\n",
        "\\begin{align}\n",
        "t_{failure}=2\\omega_nx_{max}\n",
        "\\end{align}"
      ],
      "metadata": {
        "id": "Fi2yLh6Rk_TC"
      }
    },
    {
      "cell_type": "code",
      "source": [
        "x_max=0.01\n",
        "t_fail=2*omega_r*x_max\n",
        "print(t_fail)"
      ],
      "metadata": {
        "id": "8nC20dSCmGfx"
      },
      "execution_count": null,
      "outputs": []
    },
    {
      "cell_type": "markdown",
      "source": [
        "Time to failure is approximately 200 seconds"
      ],
      "metadata": {
        "id": "NYlqP7sgmUK1"
      }
    },
    {
      "cell_type": "markdown",
      "source": [
        "#Question3"
      ],
      "metadata": {
        "id": "pick-I5Kmikc"
      }
    },
    {
      "cell_type": "markdown",
      "source": [
        "Meeswin engineering are bidding for a contract to build offshore wind turbines. They are proposing a new method for the\n",
        "construction of the mounting for the turbine tower on the sea floor, that involves pounding $500\\,kg$ concrete blocks into the\n",
        "sea bed. The industrial hammer (which is basically a 50kg block) which is used to do this is designed so that on every\n",
        "strike, all of its kinetic energy is transferred to the concrete block.\n",
        "The sea bed is such that it can be modelled as a spring and a damper, with stiffness $k = 20k\\,N/m$, and a damping ratio\n",
        "$\\zeta = 0.1$.\n",
        "Meeswin need to ensure that the force exerted on the sea bed does not exceed $F_{max} = 600\\,N$, to avoid irreversible\n",
        "ecological damage. Your tasks are:\n",
        "\n",
        "* a. Devise a model for this setup, and sketch a diagram identifying the key components and coefficients.\n",
        "* b. Produce the mathematical model for this setup.\n",
        "* c. Solve this mathematical model for the maximum hammer speed that can be used while limiting the force exerted on\n",
        "the sea bed to an acceptable level.\n",
        "* d. Produce a pdf file called q3.pdf containing your sketch, mathematical model, and solution, and upload it as part of your\n",
        "submission."
      ],
      "metadata": {
        "id": "PKlZqi4Umx6a"
      }
    },
    {
      "cell_type": "markdown",
      "source": [
        "##b) Mathematical model of the problem"
      ],
      "metadata": {
        "id": "kclQeBRdo0IJ"
      }
    },
    {
      "cell_type": "markdown",
      "source": [
        "**Issue with statement:** '..all of its kinetic energy is transferred to the concrete block'"
      ],
      "metadata": {
        "id": "8IXbh1oku7jT"
      }
    },
    {
      "cell_type": "markdown",
      "source": [
        "If one assumes \tAll of the hammer's kinetic energy is transferred to the block then necessarily the hammer comes to rest after the collision. But if that is the case conservation of momentum is violated unless the hammer and the block are both of the same mass. Thus this can not happen. **Therefore we will solve the problem by assuming a perfectly inelastic collision, where the hammer and concrete block stick together and move as a single body immediately after impact.**"
      ],
      "metadata": {
        "id": "Inf7l9PbvCoj"
      }
    },
    {
      "cell_type": "markdown",
      "source": [
        "Modelling the sea bed+concrete block as a mass-spring-damper system impacted by a falling hammer. The second-order differential equation governing such a system under a forcing function $F(t)$ is:\n",
        "\n",
        "\\begin{align}\n",
        "\\ddot{x}(t) + 2\\zeta \\omega_n \\dot{x}(t) + \\omega_n^2 x(t) = \\frac{1}{M}F(t)\n",
        "\\end{align}\n",
        "\n",
        "Where: $x(t)$ is the displacement of the $500\\,kg$ concrete block+hammer (blocak mass $M = 500\\, \\text{kg}$, hammer mass $m = 50\\, \\text{kg},)$, $\\zeta = 0.1$ is the damping ratio, $k = 20000\\, \\text{N/m} \\Rightarrow \\omega_n = \\sqrt{\\frac{k}{M+m}}$, $F(t)$ is the external force applied by the $m=50\\,kg$ hammer via impulse.\n",
        "\n",
        "Given that the hammer strike is instantaneous and delivers an impulse $J = m v$, the forcing term F(t) can be modeled using the Dirac delta function:\n",
        "\n",
        "\\begin{align}\n",
        "F(t) = m v\\, \\delta(t)\n",
        "\\end{align}\n",
        "\n"
      ],
      "metadata": {
        "id": "RTlJiryTo49O"
      }
    },
    {
      "cell_type": "markdown",
      "source": [
        "## c) Solve this mathematical model for the maximum hammer speed"
      ],
      "metadata": {
        "id": "YqwPUYJf9VLW"
      }
    },
    {
      "cell_type": "markdown",
      "source": [
        "The impulse response of this system is\n",
        "\\begin{align}\n",
        "x(t) = \\frac{mv}{(M+m)\\omega_d} e^{-\\zeta \\omega_n t} \\sin(\\omega_d t)= \\frac{v_0}{\\omega_d} e^{-\\zeta \\omega_n t} \\sin(\\omega_d t)\n",
        "\\end{align}\n",
        "where $\\omega_d = \\omega_n \\sqrt{1 - \\zeta^2}$ and $v_0=\\frac{mv}{(M+m)}$.\n",
        "\n",
        "The force exerted to the sea bed is\n",
        "\\begin{align}\n",
        "F_{\\text{exerted}} &=-kx-c\\dot{x}\\\\\n",
        " &= -k \\left( \\frac{v_0}{\\omega_d} e^{-\\zeta \\omega_n t} \\sin(\\omega_d t) \\right)\n",
        "\t-\tc \\left( v_0 e^{-\\zeta \\omega_n t} \\left[ \\cos(\\omega_d t) - \\frac{\\zeta \\omega_n}{\\omega_d} \\sin(\\omega_d t) \\right] \\right)\\\\\n",
        "&= -v_0 e^{-\\zeta \\omega_n t} \\left[\n",
        "\\left( \\frac{k}{\\omega_d} - c \\frac{\\zeta \\omega_n}{\\omega_d} \\right) \\sin(\\omega_d t) + c \\cos(\\omega_d t)\n",
        "\\right] \\\\\n",
        "&=\n",
        "-v_0\\, e^{-\\zeta \\omega_n t} \\left[\n",
        "\\left( \\frac{k - c \\zeta \\omega_n}{\\omega_d} \\right) \\sin(\\omega_d t)\n",
        "\t-\tc \\cos(\\omega_d t)\n",
        "\\right]\\\\\n",
        "& = -v_0 R e^{-\\zeta \\omega_n t} \\sin(\\omega_d t + \\phi)\n",
        "\\end{align}\n",
        "\n",
        "where\n",
        "\\begin{align}\n",
        "R &= \\sqrt{\\frac{k^2 (1 - 2\\zeta^2)^2}{\\omega_d^2} + 4 \\zeta^2 k (M + m)}\\\\\n",
        "\\phi &= \\tan^{-1}\\left(\n",
        "\\frac{2 \\zeta \\omega_d \\sqrt{k(M + m)}}{k(1 - 2\\zeta^2)}\n",
        "\\right)\n",
        "\\end{align}"
      ],
      "metadata": {
        "id": "URi60O0iyQIP"
      }
    },
    {
      "cell_type": "markdown",
      "source": [
        "Where $t_{\\text{peak}}$ is when $\\sin(\\omega_d t + \\phi) = -1$, i.e.,\n",
        "\n",
        "\\begin{align}\n",
        "\\omega_d t_{\\text{peak}} + \\phi = \\frac{3\\pi}{2} \\Rightarrow t_{\\text{peak}} = \\frac{3\\pi/2 - \\phi}{\\omega_d}\n",
        "\\end{align}"
      ],
      "metadata": {
        "id": "4LZ25-g85i4E"
      }
    },
    {
      "cell_type": "markdown",
      "source": [
        "Thus\n",
        "\\begin{align}\n",
        "F_{\\text{max}} &= v_0 R \\cdot e^{-\\zeta \\omega_n t_{\\text{peak}}}\\\\\n",
        "& = v_0 R \\cdot \\exp\\left( -\\zeta \\omega_n \\cdot \\frac{3\\pi/2 - \\phi}{\\omega_d} \\right)\\\\\n",
        "& = \\frac{m}{M + m} v \\cdot \\sqrt{ \\frac{k^2 (1 - 2\\zeta^2)^2}{\\omega_d^2} + 4 \\zeta^2 k (M + m) } \\cdot \\exp\\left( -\\zeta \\omega_n \\cdot \\frac{3\\pi/2 - \\tan^{-1} \\left( \\frac{2 \\zeta \\omega_d \\sqrt{k(M + m)}}{k (1 - 2\\zeta^2)} \\right) }{\\omega_d} \\right)\n",
        "\\end{align}\n",
        "So the maximum force exerted on the seabed is approximately linear in velocity."
      ],
      "metadata": {
        "id": "271aok6t6lVG"
      }
    },
    {
      "cell_type": "code",
      "source": [
        "import sympy as sp\n",
        "\n",
        "# Define symbols\n",
        "v = sp.Symbol('v', real=True, positive=True)\n",
        "m, M, k, zeta = sp.symbols('m M k zeta', real=True, positive=True)\n",
        "\n",
        "# Intermediate quantities\n",
        "omega_n = sp.sqrt(k / (M + m))\n",
        "omega_d = omega_n * sp.sqrt(1 - zeta**2)\n",
        "v0 = (m / (M + m)) * v\n",
        "\n",
        "# Simplify A and B\n",
        "A = (k * (1 - 2 * zeta**2)) / omega_d\n",
        "B = 2 * zeta * omega_n * (M + m)\n",
        "\n",
        "# Amplitude R\n",
        "R = sp.sqrt(A**2 + B**2)\n",
        "\n",
        "# Phase angle phi\n",
        "phi = sp.atan(B / A)\n",
        "\n",
        "# t_peak and exponential decay\n",
        "t_peak = (3 * sp.pi / 2 - phi) / omega_d\n",
        "decay = sp.exp(-zeta * omega_n * t_peak)\n",
        "\n",
        "# Final expression for F_max\n",
        "F_max = v0 * R * decay\n",
        "\n",
        "# Optional: substitute numerical values\n",
        "params = {\n",
        "    m: 50,\n",
        "    M: 500,\n",
        "    k: 20000,\n",
        "    zeta: 0.1\n",
        "}\n",
        "\n",
        "F_max_numeric = F_max.subs(params).simplify()\n",
        "\n",
        "# Print symbolic expression in terms of v\n",
        "print(\"F_max(v) =\")\n",
        "sp.pprint(F_max_numeric)"
      ],
      "metadata": {
        "id": "PLNa-Qcy5hy-"
      },
      "execution_count": null,
      "outputs": []
    },
    {
      "cell_type": "markdown",
      "source": [
        "So the maximum force exerted to the sea bed is $F_{\\text{max}}(v) \\approx 192.6 \\cdot v$. Since $F_{\\text{max}}=600\\,N$ we have $v_max\\approx 600/192.6\\,m/s=3.12 \\,m/s$"
      ],
      "metadata": {
        "id": "5WM3JoEt8RRT"
      }
    }
  ]
}