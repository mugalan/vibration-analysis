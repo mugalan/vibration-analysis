{
  "nbformat": 4,
  "nbformat_minor": 0,
  "metadata": {
    "colab": {
      "provenance": [],
      "collapsed_sections": [
        "Q-BZgoppH8-p",
        "7p1v2B5RQU-9",
        "MCqNIH8hWaFC",
        "AkV5kfOET74e",
        "ix64_XTj3RK0",
        "VMonShpU0fkf",
        "V_wuzOMFgyIm",
        "wi6saxnvhXTf",
        "YrNmadvAiDrF",
        "_i4qRgr-ies_",
        "jcG552nCjAhC",
        "6vObiCeF_UTg",
        "4wJ_AboDSl-0",
        "qmFMA3GGSqkU",
        "HUCkg9aTTGUF",
        "5Vz9BTv1ky1x",
        "EgYzdaLn0DAL",
        "qWVKqX7K3WDK",
        "bpFso7jJAdWq",
        "aA7VldZyCYUy"
      ],
      "authorship_tag": "ABX9TyNevESnGQG6R4GSICsX92WW",
      "include_colab_link": true
    },
    "kernelspec": {
      "name": "python3",
      "display_name": "Python 3"
    },
    "language_info": {
      "name": "python"
    }
  },
  "cells": [
    {
      "cell_type": "markdown",
      "metadata": {
        "id": "view-in-github",
        "colab_type": "text"
      },
      "source": [
        "<a href=\"https://colab.research.google.com/github/mugalan/vibration-analysis/blob/main/assignments/Basic_Vibration_Modeling.ipynb\" target=\"_parent\"><img src=\"https://colab.research.google.com/assets/colab-badge.svg\" alt=\"Open In Colab\"/></a>"
      ]
    }
  ]
}