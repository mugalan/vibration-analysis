{
  "nbformat": 4,
  "nbformat_minor": 0,
  "metadata": {
    "colab": {
      "provenance": [],
      "collapsed_sections": [
        "Q-BZgoppH8-p",
        "7p1v2B5RQU-9",
        "MCqNIH8hWaFC",
        "AkV5kfOET74e",
        "ix64_XTj3RK0",
        "VMonShpU0fkf",
        "V_wuzOMFgyIm",
        "wi6saxnvhXTf",
        "YrNmadvAiDrF",
        "_i4qRgr-ies_",
        "jcG552nCjAhC",
        "6vObiCeF_UTg",
        "4wJ_AboDSl-0",
        "qmFMA3GGSqkU",
        "HUCkg9aTTGUF",
        "5Vz9BTv1ky1x",
        "EgYzdaLn0DAL",
        "qWVKqX7K3WDK",
        "bpFso7jJAdWq",
        "aA7VldZyCYUy"
      ],
      "authorship_tag": "ABX9TyMvkYZ8WfjymgS9f9BlkbAr",
      "include_colab_link": true
    },
    "kernelspec": {
      "name": "python3",
      "display_name": "Python 3"
    },
    "language_info": {
      "name": "python"
    }
  },
  "cells": [
    {
      "cell_type": "markdown",
      "metadata": {
        "id": "view-in-github",
        "colab_type": "text"
      },
      "source": [
        "<a href=\"https://colab.research.google.com/github/mugalan/vibration-analysis/blob/main/assignments/Basic_Vibration_Modeling.ipynb\" target=\"_parent\"><img src=\"https://colab.research.google.com/assets/colab-badge.svg\" alt=\"Open In Colab\"/></a>"
      ]
    },
    {
      "cell_type": "code",
      "source": [
        "import numpy as np\n",
        "import scipy as sp\n",
        "from scipy.integrate import odeint\n",
        "import math\n",
        "from numpy import linalg\n",
        "import sympy\n",
        "\n",
        "from sympy import symbols\n",
        "from sympy import *\n",
        "from sympy.physics.mechanics import dynamicsymbols, init_vprinting\n",
        "init_vprinting(pretty_print=True)\n",
        "\n",
        "import plotly.graph_objects as go"
      ],
      "metadata": {
        "id": "DmjHyGvMfX3R"
      },
      "execution_count": null,
      "outputs": []
    },
    {
      "cell_type": "markdown",
      "source": [
        "Meeswin engineering are an engineering company that have been commissioned to design an auto-closing gate for use\n",
        "in rural settings. Because it is to be used in remote locations, it cannot use any electronics. The engineers have decided\n",
        "it will therefore be a swinging gate mounted to a vertical post about which it rotates, with a torsional spring that cannot be\n",
        "adjusted which has a torsional spring constant of $k = 130\\,N.m$. They will control the torsional damping with a drum brake\n",
        "that simply uses friction to slow the gate's rotation. The amount of friction can be controlled by tightening or loosening a\n",
        "bolt which presses a brake shoe against the drum. Both the torsional spring and the brake can be considered linear. The\n",
        "gate weighs $75\\,kg$, with its centre of mass concentrated at its centre point which is $1.5\\,m$ from the vertical post. The initial\n",
        "settings on the gate brake produce a rotational damping coefficient of $c= 10\\,N.m/s$. Your tasks are\n",
        "\n",
        "* a. If the gate is opened to an angle of $\\theta = 30^o$, then released from rest, find the expression for the time history of the\n",
        "motion of the gate.\n",
        "\n",
        "* b. Provide an explanation of which vibration phenomenon could be exploited to minimise the time that the gate remains\n",
        "open and how this could be implemented given the gate design.\n",
        "\n",
        "* c. For the provided gate, calculate new values of any coefficients that would lead to the minimum open time, and calculate\n",
        "how long it will take the gate to close from an initial position of $\\theta = 30^o$ (the gate can be considered closed when its\n",
        "position is $\\theta= 1^o$).\n",
        "\n",
        "* d. Produce a pdf file called q1.pdf, containing your working and final expression for the motion of the gate, explanation\n",
        "of a phenomenon to exploit to minimise open time, your calculations and new values of coefficients to minimise open\n",
        "time, and your calculations of the minimum time the gate will remain open. Upload this file as part of your submission."
      ],
      "metadata": {
        "id": "OnLVTmMscC3q"
      }
    },
    {
      "cell_type": "markdown",
      "metadata": {
        "id": "dca708df"
      },
      "source": []
    },
    {
      "cell_type": "markdown",
      "metadata": {
        "id": "49918cb9"
      },
      "source": [
        "## System Model and Initial Condition Response\n"
      ]
    },
    {
      "cell_type": "markdown",
      "source": [
        "Assumin that the horizontal gate position is the equilibrium position of the gate we have\n",
        "\n",
        "Let $\\omega^2_n=\\frac{K}{I}$ and $2 \\zeta \\omega_n=\\frac{C}{I}$. Then the above equations take the form\n",
        "\\begin{align}\n",
        "\\ddot{\\theta}(t) + 2 \\zeta \\omega_n \\dot{\\theta}(t) + \\omega^2_n \\theta(t)=0.\n",
        "\\end{align}"
      ],
      "metadata": {
        "id": "NXNPo9KikMfv"
      }
    },
    {
      "cell_type": "markdown",
      "source": [
        "Taking Laplace transform\n",
        "of both sides of and using the linearity property of the Laplace transform we have\n",
        "\\begin{align}\n",
        "\\mathfrak{L}\\left\\{\\ddot{\\theta}(t) + 2 \\zeta \\omega_n \\dot{\\theta}(t) + \\omega^2_n \\theta(t)\\right\\}&=\\frac{1}{M}\\mathfrak{L}\\left\\{f(t)\\right\\},\\\\\n",
        "(s^2+2 \\zeta \\omega_n s + \\omega_n^2) \\Theta(s) - \\dot{\\theta}(0)- ( s + 2\\zeta \\omega_n)\\theta(0)  &= 0.\n",
        "\\end{align}\n",
        "This yields\n",
        "\\begin{align}\n",
        "\\Theta(s)=\\frac{1}{s^2+2 \\zeta \\omega_n s + \\omega_n^2} \\dot{\\theta}(0)+\\frac{ s + 2\\zeta \\omega_n}{s^2+2 \\zeta \\omega_n s + \\omega_n^2}\\theta(0)\n",
        "\\end{align}\n",
        "Since the Laplace is a one-to-one and onto operator its inverse exists and thus the the solution can be uniquely determined to be $x(t)=\\mathfrak{L}^{-1}\\{X(s)\\}$. Using the linearity property of the inverse we thus have\n",
        "\n",
        "\n",
        "\\begin{align}\n",
        "\\theta(t)&=\\dot{\\theta}(0)\\mathfrak{L}^{-1}\\left\\{\\frac{1}{s^2+2 \\zeta \\omega_n s + \\omega_n^2} \\right\\}+\\theta(0)\\mathfrak{L}^{-1}\\left\\{\\frac{ s + 2\\zeta \\omega_n}{s^2+2 \\zeta \\omega_n s + \\omega_n^2}\\right\\}.\n",
        "\\end{align}\n",
        "\n",
        "\n",
        "\n",
        "Assuming underdaped conditions $0\\leq\\zeta \\leq 1$ it is a straight forward exercise in partial fraction expansion to show that the above expressions reduce to\n",
        "\n",
        "\\begin{align}\n",
        "\\theta_{IC} (t) &=e^{-\\zeta \\omega_nt}\\left(\\frac{\\dot{\\theta}(0)}{\\omega_d}\\cos{(\\omega_dt-\\pi/2)}+\\frac{\\theta(0)}{\\sqrt{1-\\zeta^2}}\\sin{(\\omega_dt+\\phi_{IC})}\\right)\n",
        "\\end{align}\n",
        "where $\\omega_d=\\omega_n\\sqrt{1-\\zeta^2}$, $\\phi_{IC}=\\arcsin\\left({\\sqrt{1-\\zeta^2}}\\right)$"
      ],
      "metadata": {
        "id": "_l2wbMfYspLH"
      }
    },
    {
      "cell_type": "code",
      "source": [
        "M=75; L=1.5; K=130; C=10; wn=np.sqrt(K/M);\n",
        "zeta=2*C/wn"
      ],
      "metadata": {
        "id": "lmWMCy_kvF5x"
      },
      "execution_count": null,
      "outputs": []
    },
    {
      "cell_type": "code",
      "source": [
        "wd=wn*np.sqrt(1-zeta**2); phi_IC=np.arcsin(1-zeta**2); x0=1; xdot0=0;\n",
        "t=np.linspace(0,100,1000);\n",
        "x_IC=np.exp(-zeta*wn*t)*((xdot0/wd)*np.cos(wd*t-np.pi/2)+(x0/(np.sqrt(1-zeta**2)))*np.sin(wd*t+phi_IC))   #np.exp(-zeta*wn*t);"
      ],
      "metadata": {
        "id": "5GvkbRXRsniJ"
      },
      "execution_count": null,
      "outputs": []
    },
    {
      "cell_type": "code",
      "source": [
        "fig = go.Figure()\n",
        "fig.add_trace(go.Scatter(x=t, y=x_IC, mode='lines+markers', name='x'))\n",
        "fig.update_layout(title='Initial Condition Response', xaxis=dict(title='Time / t'), yaxis=dict(title=r'$x_{IC}(t)$'))\n",
        "fig.show()"
      ],
      "metadata": {
        "id": "xS1LED_tu-Lv"
      },
      "execution_count": null,
      "outputs": []
    },
    {
      "cell_type": "markdown",
      "metadata": {
        "id": "149f00dc"
      },
      "source": [
        "**Reasoning**:\n",
        "Define the physical parameters of the system and the governing equation of motion for a damped torsional pendulum.\n",
        "\n"
      ]
    },
    {
      "cell_type": "code",
      "source": [
        "theta = dynamicsymbols('theta')\n",
        "I, K, C, M, g, L, t, theta_0 = symbols('I, K, C, M, g, L, t, theta_0', real=True)"
      ],
      "metadata": {
        "id": "9DJX09c0f6cH"
      },
      "execution_count": null,
      "outputs": []
    },
    {
      "cell_type": "code",
      "source": [
        "theta_dot=Derivative(theta)\n",
        "theta_ddot=Derivative(theta_dot)"
      ],
      "metadata": {
        "id": "5VpFrutEgOOZ"
      },
      "execution_count": null,
      "outputs": []
    },
    {
      "cell_type": "code",
      "source": [
        "I*theta_ddot+C*theta_dot+K*theta"
      ],
      "metadata": {
        "id": "DzFLc6-jgiOT"
      },
      "execution_count": null,
      "outputs": []
    },
    {
      "cell_type": "code",
      "source": [
        "M*g*L*cos(theta)"
      ],
      "metadata": {
        "id": "ayK8dd3Gi2j_"
      },
      "execution_count": null,
      "outputs": []
    },
    {
      "cell_type": "code",
      "source": [
        "latext(I*theta_ddot+C*theta_dot+K*theta)"
      ],
      "metadata": {
        "id": "Fj0EqBMzi5xa"
      },
      "execution_count": null,
      "outputs": []
    },
    {
      "cell_type": "markdown",
      "metadata": {
        "id": "64d4bec5"
      },
      "source": [
        "## Solve the equation of motion (part a)\n",
        "\n",
        "### Subtask:\n",
        "Use Python to solve the differential equation for the given initial conditions and parameters to find the expression for the time history of the gate's motion.\n"
      ]
    },
    {
      "cell_type": "markdown",
      "metadata": {
        "id": "918c0ff9"
      },
      "source": [
        "**Reasoning**:\n",
        "Define the initial conditions and parameters, calculate the moment of inertia, and substitute these values into the equation of motion.\n",
        "\n"
      ]
    },
    {
      "cell_type": "code",
      "metadata": {
        "id": "a6512cd1"
      },
      "source": [
        "import numpy as np\n",
        "\n",
        "# Define parameters\n",
        "mass = 75  # kg\n",
        "distance_to_cm = 1.5  # meters\n",
        "k_val = 130  # N.m\n",
        "c_val = 10  # N.m/s\n",
        "\n",
        "# Calculate moment of inertia (assuming mass concentrated at a point)\n",
        "I_val = mass * distance_to_cm**2\n",
        "\n",
        "# Define initial conditions\n",
        "initial_theta_deg = 30\n",
        "initial_theta_rad = np.deg2rad(initial_theta_deg)  # Convert degrees to radians\n",
        "initial_velocity = 0  # Released from rest\n",
        "\n",
        "# Substitute parameter values into the equation of motion\n",
        "# I * d^2(theta)/dt^2 + c * d(theta)/dt + k * theta = 0\n",
        "# We'll use the numerical values directly in the solution process.\n",
        "# The equation becomes: I_val * theta''(t) + c_val * theta'(t) + k_val * theta(t) = 0"
      ],
      "execution_count": null,
      "outputs": []
    },
    {
      "cell_type": "markdown",
      "metadata": {
        "id": "8a4e1caa"
      },
      "source": [
        "**Reasoning**:\n",
        "Solve the second-order linear homogeneous differential equation with the calculated coefficients and apply the initial conditions to find the particular solution for $\\theta(t)$ using sympy.\n",
        "\n"
      ]
    },
    {
      "cell_type": "code",
      "metadata": {
        "id": "b9de249c"
      },
      "source": [
        "import sympy as sp\n",
        "\n",
        "# Define symbolic variables\n",
        "theta, t = sp.symbols('theta t', real=True)\n",
        "C1, C2 = sp.symbols('C1 C2') # Constants of integration\n",
        "\n",
        "# Define the coefficients from the previous calculations\n",
        "I_val = 168.75\n",
        "c_val = 10\n",
        "k_val = 130\n",
        "\n",
        "# Define the differential equation using the numerical coefficients\n",
        "# I * d^2(theta)/dt^2 + c * d(theta)/dt + k * theta = 0\n",
        "diffeq = sp.Eq(I_val * sp.diff(theta, t, 2) + c_val * sp.diff(theta, t) + k_val * theta, 0)\n",
        "\n",
        "# Solve the differential equation\n",
        "solution = sp.dsolve(diffeq, theta(t))\n",
        "\n",
        "# Extract the general solution\n",
        "general_solution = solution.rhs\n",
        "\n",
        "# Define the initial conditions as equations\n",
        "initial_theta_rad = np.deg2rad(30)\n",
        "initial_velocity = 0\n",
        "\n",
        "# Equation from initial displacement: theta(0) = initial_theta_rad\n",
        "eq_initial_theta = sp.Eq(general_solution.subs(t, 0), initial_theta_rad)\n",
        "\n",
        "# Equation from initial velocity: theta'(0) = initial_velocity\n",
        "# First, find the derivative of the general solution\n",
        "theta_prime_t = sp.diff(general_solution, t)\n",
        "# Then substitute t=0 into the derivative\n",
        "eq_initial_velocity = sp.Eq(theta_prime_t.subs(t, 0), initial_velocity)\n",
        "\n",
        "# Solve for the constants of integration C1 and C2 using the initial conditions\n",
        "constants = sp.solve((eq_initial_theta, eq_initial_velocity), (C1, C2))\n",
        "\n",
        "# Substitute the values of C1 and C2 back into the general solution to get the particular solution\n",
        "particular_solution = general_solution.subs(constants)\n",
        "\n",
        "# Display the expression for theta(t)\n",
        "display(sp.Eq(theta(t), particular_solution))"
      ],
      "execution_count": null,
      "outputs": []
    },
    {
      "cell_type": "markdown",
      "metadata": {
        "id": "619714f2"
      },
      "source": [
        "**Reasoning**:\n",
        "The error `TypeError: 'Symbol' object is not callable` indicates that `theta(t)` is being treated as a function call on a Symbol `theta`, which is incorrect usage in `sp.dsolve`. The correct way to represent the function to be solved for is just `theta`. The code needs to be fixed by changing `theta(t)` to `theta` in the `sp.dsolve` call and ensuring that `theta` is defined as a function using `sp.Function`.\n",
        "\n"
      ]
    },
    {
      "cell_type": "code",
      "metadata": {
        "id": "uKDlvP91dH2k"
      },
      "source": [
        "import numpy as np\n",
        "import sympy as sp\n",
        "\n",
        "# Define symbolic variables, defining theta as a function of t\n",
        "t = sp.symbols('t', real=True)\n",
        "theta = sp.Function('theta')(t)\n",
        "C1, C2 = sp.symbols('C1 C2') # Constants of integration\n",
        "\n",
        "# Define the coefficients from the previous calculations\n",
        "I_val = 168.75\n",
        "c_val = 10\n",
        "k_val = 130\n",
        "\n",
        "# Define the differential equation using the numerical coefficients\n",
        "# I * d^2(theta)/dt^2 + c * d(theta)/dt + k * theta = 0\n",
        "diffeq = sp.Eq(I_val * sp.diff(theta, t, 2) + c_val * sp.diff(theta, t) + k_val * theta, 0)\n",
        "\n",
        "# Solve the differential equation\n",
        "solution = sp.dsolve(diffeq, theta)\n",
        "\n",
        "# Extract the general solution\n",
        "general_solution = solution.rhs\n",
        "\n",
        "# Define the initial conditions as equations\n",
        "initial_theta_deg = 30\n",
        "initial_theta_rad = np.deg2rad(initial_theta_deg)  # Convert degrees to radians\n",
        "initial_velocity = 0\n",
        "\n",
        "# Equation from initial displacement: theta(0) = initial_theta_rad\n",
        "eq_initial_theta = sp.Eq(general_solution.subs(t, 0), initial_theta_rad)\n",
        "\n",
        "# Equation from initial velocity: theta'(0) = initial_velocity\n",
        "# First, find the derivative of the general solution\n",
        "theta_prime_t = sp.diff(general_solution, t)\n",
        "# Then substitute t=0 into the derivative\n",
        "eq_initial_velocity = sp.Eq(theta_prime_t.subs(t, 0), initial_velocity)\n",
        "\n",
        "# Solve for the constants of integration C1 and C2 using the initial conditions\n",
        "constants = sp.solve((eq_initial_theta, eq_initial_velocity), (C1, C2))\n",
        "\n",
        "# Substitute the values of C1 and C2 back into the general solution to get the particular solution\n",
        "particular_solution = general_solution.subs(constants)\n",
        "\n",
        "# Display the expression for theta(t)\n",
        "display(sp.Eq(theta, particular_solution))"
      ],
      "execution_count": null,
      "outputs": []
    },
    {
      "cell_type": "markdown",
      "metadata": {
        "id": "5f757869"
      },
      "source": [
        "## Explain vibration phenomenon (part b)\n",
        "\n",
        "### Subtask:\n",
        "Describe the concept of critical damping and how it relates to minimizing the closing time of the gate. Explain how the damping coefficient can be adjusted in this gate design.\n"
      ]
    },
    {
      "cell_type": "markdown",
      "metadata": {
        "id": "46ee630b"
      },
      "source": [
        "**Reasoning**:\n",
        "Explain the concepts of critical damping, underdamped, and overdamped systems, relating them to the gate's motion and how critical damping minimizes closing time. Then, describe how the damping coefficient can be adjusted based on the problem description.\n",
        "\n"
      ]
    },
    {
      "cell_type": "code",
      "metadata": {
        "id": "ce87cb21"
      },
      "source": [
        "# Explanation of damping types and critical damping for minimizing closing time\n",
        "print(\"Explanation of Damping and its effect on Gate Closing Time:\\n\")\n",
        "\n",
        "print(\"In a damped oscillatory system like the gate, the type of damping determines how the system returns to its equilibrium position (closed gate, theta = 0). There are three main types:\\n\")\n",
        "\n",
        "print(\"1. Underdamped: The system oscillates around the equilibrium position before settling. The damping is not strong enough to prevent overshoot. While the initial return might be fast, the subsequent oscillations prolong the time it takes to reach and stay at equilibrium.\")\n",
        "print(\"   - Behavior: Oscillatory decay.\")\n",
        "print(\"   - Gate: The gate would swing back and forth around the closed position before finally coming to rest.\\n\")\n",
        "\n",
        "print(\"2. Overdamped: The damping is so strong that the system returns to equilibrium very slowly without any oscillation. The motion is sluggish.\")\n",
        "print(\"   - Behavior: Slow, non-oscillatory return.\")\n",
        "print(\"   - Gate: The gate would slowly creep towards the closed position without any overshoot.\\n\")\n",
        "\n",
        "print(\"3. Critically Damped: This is the ideal case for minimizing the time to return to equilibrium without oscillation. The system returns to equilibrium as quickly as possible without overshooting.\")\n",
        "print(\"   - Behavior: Fastest possible non-oscillatory return.\")\n",
        "print(\"   - Gate: The gate would close quickly and smoothly, stopping precisely at the closed position without swinging past it.\\n\")\n",
        "\n",
        "print(\"Relating to minimizing closing time:\")\n",
        "print(\"Critical damping is crucial for minimizing the time the gate remains open because it provides the fastest possible return to the equilibrium position (theta = 0) without any oscillations. Underdamped systems waste time oscillating, while overdamped systems take too long to reach equilibrium due to excessive resistance. Critical damping strikes the perfect balance, dissipating energy efficiently to bring the system to rest in the shortest time.\\n\")\n",
        "\n",
        "print(\"Adjusting the damping coefficient in the gate design:\")\n",
        "print(\"According to the problem description, the torsional damping is controlled by a drum brake that uses friction. The amount of friction, and thus the damping coefficient (c), can be controlled by 'tightening or loosening a bolt which presses a brake shoe against the drum.' Tightening the bolt would increase the pressure of the brake shoe on the drum, increasing friction and thus increasing the damping coefficient. Loosening the bolt would decrease the pressure, reducing friction and the damping coefficient.\")"
      ],
      "execution_count": null,
      "outputs": []
    },
    {
      "cell_type": "markdown",
      "metadata": {
        "id": "e3fcec08"
      },
      "source": [
        "## Calculate optimal coefficients and closing time\n",
        "\n",
        "### Subtask:\n",
        "Calculate the moment of inertia of the gate. Determine the critical damping coefficient. Calculate the time it takes for the critically damped gate to close to 1 degree from 30 degrees.\n"
      ]
    },
    {
      "cell_type": "markdown",
      "metadata": {
        "id": "430a03c3"
      },
      "source": [
        "**Reasoning**:\n",
        "Calculate the moment of inertia and the critical damping coefficient, then set up the symbolic variables and the differential equation for the critically damped case.\n",
        "\n"
      ]
    },
    {
      "cell_type": "code",
      "metadata": {
        "id": "fba97778"
      },
      "source": [
        "import numpy as np\n",
        "import sympy as sp\n",
        "\n",
        "# Step 1: Calculate the moment of inertia (I)\n",
        "mass = 75  # kg\n",
        "distance_to_cm = 1.5  # meters\n",
        "I_val = mass * distance_to_cm**2\n",
        "print(f\"Moment of inertia (I): {I_val} kg.m^2\")\n",
        "\n",
        "# Step 2: Calculate the critical damping coefficient (c_critical)\n",
        "k_val = 130  # N.m\n",
        "c_critical_val = 2 * np.sqrt(I_val * k_val)\n",
        "print(f\"Critical damping coefficient (c_critical): {c_critical_val} N.m/s\")\n",
        "\n",
        "# Step 3: Define symbolic variables and function\n",
        "t = sp.symbols('t', real=True)\n",
        "theta = sp.Function('theta')(t)\n",
        "C1, C2 = sp.symbols('C1 C2') # Constants of integration\n",
        "\n",
        "# Step 4: Define the differential equation for a critically damped system\n",
        "# I * d^2(theta)/dt^2 + c_critical * d(theta)/dt + k * theta = 0\n",
        "diffeq_critical = sp.Eq(I_val * sp.diff(theta, t, 2) + c_critical_val * sp.diff(theta, t) + k_val * theta, 0)\n",
        "display(\"Differential equation for critical damping:\", diffeq_critical)"
      ],
      "execution_count": null,
      "outputs": []
    },
    {
      "cell_type": "markdown",
      "metadata": {
        "id": "7583608a"
      },
      "source": [
        "**Reasoning**:\n",
        "Solve the critically damped differential equation, extract the general solution, and define the initial conditions.\n",
        "\n"
      ]
    },
    {
      "cell_type": "code",
      "metadata": {
        "id": "d5f89d64"
      },
      "source": [
        "# Step 5: Solve the differential equation\n",
        "solution_critical = sp.dsolve(diffeq_critical, theta)\n",
        "display(\"General solution for critical damping:\", solution_critical)\n",
        "\n",
        "# Step 7: Extract the general solution\n",
        "general_solution_critical = solution_critical.rhs\n",
        "\n",
        "# Step 8: Define the initial conditions\n",
        "initial_theta_deg = 30\n",
        "initial_theta_rad = np.deg2rad(initial_theta_deg)  # Convert degrees to radians\n",
        "initial_velocity = 0  # Released from rest"
      ],
      "execution_count": null,
      "outputs": []
    },
    {
      "cell_type": "markdown",
      "metadata": {
        "id": "e9976a69"
      },
      "source": [
        "**Reasoning**:\n",
        "Use the initial conditions to set up equations for the constants of integration and solve for them. Then substitute the constants back into the general solution to get the particular solution.\n",
        "\n"
      ]
    },
    {
      "cell_type": "code",
      "metadata": {
        "id": "caa8927d"
      },
      "source": [
        "# Step 9: Use the initial conditions to set up equations for C1 and C2\n",
        "# Equation from initial displacement: theta(0) = initial_theta_rad\n",
        "eq_initial_theta_critical = sp.Eq(general_solution_critical.subs(t, 0), initial_theta_rad)\n",
        "\n",
        "# Equation from initial velocity: theta'(0) = initial_velocity\n",
        "# First, find the derivative of the general solution\n",
        "theta_prime_t_critical = sp.diff(general_solution_critical, t)\n",
        "# Then substitute t=0 into the derivative\n",
        "eq_initial_velocity_critical = sp.Eq(theta_prime_t_critical.subs(t, 0), initial_velocity)\n",
        "\n",
        "# Step 10: Solve for the constants of integration C1 and C2\n",
        "constants_critical = sp.solve((eq_initial_theta_critical, eq_initial_velocity_critical), (C1, C2))\n",
        "display(\"Constants of integration (C1, C2):\", constants_critical)\n",
        "\n",
        "# Step 11: Substitute the values of C1 and C2 back into the general solution to get the particular solution\n",
        "particular_solution_critical = general_solution_critical.subs(constants_critical)\n",
        "display(\"Particular solution for critical damping:\", sp.Eq(theta, particular_solution_critical))"
      ],
      "execution_count": null,
      "outputs": []
    },
    {
      "cell_type": "markdown",
      "metadata": {
        "id": "d6127dcb"
      },
      "source": [
        "**Reasoning**:\n",
        "Define the target angle for closing and solve the particular solution equation for time `t` when the angle is equal to the target angle, selecting the smallest positive real solution.\n",
        "\n"
      ]
    },
    {
      "cell_type": "code",
      "metadata": {
        "id": "e447def5"
      },
      "source": [
        "# Step 12: Define the target angle for closing (1 degree converted to radians)\n",
        "target_theta_deg = 1\n",
        "target_theta_rad = np.deg2rad(target_theta_deg)\n",
        "\n",
        "# Step 13: Set the particular solution equal to the target angle and solve for t\n",
        "# Use numerical evaluation for solving since the expression is complex\n",
        "# We need to find t such that particular_solution_critical - target_theta_rad = 0\n",
        "\n",
        "# Define a numerical function from the symbolic expression\n",
        "theta_critical_func = sp.lambdify(t, particular_solution_critical - target_theta_rad, 'numpy')\n",
        "\n",
        "# Find the root(s) of the function. Since we expect a single root for critical damping\n",
        "# as it approaches the target without oscillation, we can use a root-finding algorithm.\n",
        "# We need to provide an initial guess or a bracket. Let's try a few guesses or a range.\n",
        "# We know the gate starts at 30 deg and closes towards 0 deg, so the time should be positive.\n",
        "# A reasonable initial guess might be around the time constant or a few seconds.\n",
        "\n",
        "# Let's try to find the root numerically. We can use scipy.optimize.fsolve or root.\n",
        "# Since we are in a Jupyter environment, we can assume scipy is available or install it if needed.\n",
        "# Let's assume scipy is available for now.\n",
        "\n",
        "from scipy.optimize import fsolve\n",
        "\n",
        "# Initial guess for t (can be refined based on expected time scale)\n",
        "# The time constant for critical damping is tau = 2*I/c_critical = 2*168.75 / 296.226 = 1.14 seconds approx.\n",
        "# Let's guess a time slightly larger than this.\n",
        "initial_guess = 2.0\n",
        "\n",
        "# Solve for t numerically\n",
        "time_to_close_critical_solutions = fsolve(theta_critical_func, initial_guess)\n",
        "\n",
        "# fsolve returns an array of solutions; we expect one real positive solution.\n",
        "# Check if the solution is real and positive\n",
        "time_to_close_critical = None\n",
        "if time_to_close_critical_solutions.size > 0:\n",
        "    # Filter for positive real solutions\n",
        "    positive_real_solutions = time_to_close_critical_solutions[(time_to_close_critical_solutions.imag == 0) & (time_to_close_critical_solutions > 0)]\n",
        "    if positive_real_solutions.size > 0:\n",
        "        # Choose the smallest positive real solution\n",
        "        time_to_close_critical = np.min(positive_real_solutions.real)\n",
        "\n",
        "if time_to_close_critical is not None:\n",
        "    print(f\"Time to close to {target_theta_deg} degrees (critically damped): {time_to_close_critical:.4f} seconds\")\n",
        "else:\n",
        "    print(f\"Could not find a positive real time to close to {target_theta_deg} degrees with critical damping.\")"
      ],
      "execution_count": null,
      "outputs": []
    },
    {
      "cell_type": "markdown",
      "metadata": {
        "id": "7a70a634"
      },
      "source": [
        "## Generate pdf report (part d)\n",
        "\n",
        "### Subtask:\n",
        "Create a PDF document containing the working, the final expression for the motion, the explanation of critical damping, the calculated optimal coefficients and closing time, and the calculations.\n"
      ]
    },
    {
      "cell_type": "markdown",
      "metadata": {
        "id": "afd084a4"
      },
      "source": [
        "## Summary:\n",
        "\n",
        "### Data Analysis Key Findings\n",
        "\n",
        "*   The system was identified as a damped torsional pendulum governed by the equation: $I \\frac{d^2\\theta}{dt^2} + c \\frac{d\\theta}{dt} + k \\theta = 0$.\n",
        "*   For the initial damping coefficient ($c=10$ N.m/s), the particular solution for the gate's motion $\\theta(t)$ was derived based on initial conditions of 30 degrees angular displacement and zero initial velocity.\n",
        "*   Critical damping is defined as the damping level that allows the system to return to equilibrium as quickly as possible without oscillation, which is optimal for minimizing the gate's closing time.\n",
        "*   The gate's damping coefficient can be adjusted physically by tightening or loosening a bolt controlling a brake shoe against a drum, thereby changing the friction.\n",
        "*   The moment of inertia of the gate was calculated to be $168.75 \\, \\text{kg.m}^2$, based on a mass of 75 kg and a center of mass at 1.5m from the pivot.\n",
        "*   The critical damping coefficient for this gate system was calculated to be approximately $296.226 \\, \\text{N.m/s}$. This is significantly higher than the initial damping of 10 N.m/s, indicating the initial configuration is heavily underdamped.\n",
        "*   Under critical damping, the time taken for the gate to close from an initial angle of 30 degrees to within 1 degree of the closed position (0 degrees) is approximately $5.9595$ seconds.\n",
        "\n",
        "### Insights or Next Steps\n",
        "\n",
        "*   Adjusting the damping coefficient to the critical damping value (approx. 296.23 N.m/s) is crucial to optimize the gate's closing performance, ensuring it closes quickly and smoothly without unwanted oscillations.\n",
        "*   Further analysis could investigate the sensitivity of the closing time to small deviations from the critical damping coefficient or explore alternative damping mechanisms if the current brake design is not capable of reaching the optimal damping level.\n"
      ]
    }
  ]
}