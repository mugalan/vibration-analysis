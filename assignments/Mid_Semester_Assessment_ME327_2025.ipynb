{
  "nbformat": 4,
  "nbformat_minor": 0,
  "metadata": {
    "colab": {
      "provenance": [],
      "authorship_tag": "ABX9TyN6CjXwbGMWGmfzT2Sd3w6X",
      "include_colab_link": true
    },
    "kernelspec": {
      "name": "python3",
      "display_name": "Python 3"
    },
    "language_info": {
      "name": "python"
    }
  },
  "cells": [
    {
      "cell_type": "markdown",
      "metadata": {
        "id": "view-in-github",
        "colab_type": "text"
      },
      "source": [
        "<a href=\"https://colab.research.google.com/github/mugalan/vibration-analysis/blob/main/assignments/Mid_Semester_Assessment_ME327_2025.ipynb\" target=\"_parent\"><img src=\"https://colab.research.google.com/assets/colab-badge.svg\" alt=\"Open In Colab\"/></a>"
      ]
    },
    {
      "cell_type": "markdown",
      "source": [
        "An apparatus consists of an pinned-pinned axially loaded beam with axial load $P$ and Length $L$. A motor of negligible mass is mounted on the beam at $L/2$. The properties of the beam are: a=1e-2 m; b=5e-3 m; L=1 m. There are three other rotary machines that operate in close proximity of the apparatus. An accelerometer is mounted on the motor at $L/2$. Two sets of data are collected, at a sampling frequency of $5\\,kHz$, for two operating conditions of the motor that cause large amplitude vibrations of the beam. For the lower frequency motion the maximimum amplitude of vibration is measured to be about $4.3\\,mm$.\n",
        "\n",
        "\n",
        "Assume that the vibrations of the other nearby devices are transmitted through the base of the axially loaded beam apparatus and that the structure of the axially loaded beam apparatus has a very high degree of flexural rigidity.\n",
        "\n",
        "Answer the followings:\n",
        "\n",
        "* Derive an approximate minimum dimensional model for the system that can capture the measured behaviour.\n",
        "* Implement a filter to filter out the base excitations.\n",
        "* Estimate the damping constant $C$ and the maximum amplitude of the forcing due to motor.\n",
        "* Estimate the Young's modulas and the axial load on the beam in terms of the density of the beam.\n",
        "* Estimate the displacement behavior of the system for the duration of the measurment\n",
        "* Estimate the acceleration and plot against the measured acceleration\n",
        "* Discuss the accuracy of your estimates."
      ],
      "metadata": {
        "id": "EzowKJRVKHZv"
      }
    }
  ]
}